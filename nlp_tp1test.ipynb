{
 "cells": [
  {
   "cell_type": "code",
   "execution_count": 1,
   "metadata": {},
   "outputs": [],
   "source": [
    "import nltk\n",
    "import re # Regular expression \n",
    "# nltk.download('punkt') # used for Tokenization \n",
    "# nltk.download('wordnet') \n",
    "# nltk.download('omw-1.4') \n",
    "# nltk.download('stopwords') \n",
    "from nltk.corpus import stopwords # used for stopwords \n",
    "from nltk.stem.porter import PorterStemmer # used for stemming \n",
    "from nltk.stem.wordnet import WordNetLemmatizer # Used for Lemmatization \n",
    "from nltk.tokenize import sent_tokenize, word_tokenize "
   ]
  },
  {
   "cell_type": "code",
   "execution_count": 2,
   "metadata": {},
   "outputs": [],
   "source": [
    "text=\"American professional basketball player who spent his entire twenty-year career with the Los Angeles Lakers in the National Basketball Association (NBA) as a shooting guard. Widely regarded as one of the greatest basketball players of all time, Bryant won five NBA championships and was an eighteen-time NBA All-Star, a fifteen-time member of the All-NBA Team, the 2008 NBA Most Valuable Player (MVP), and a two-time NBA Finals MVP. He was posthumously voted into the Naismith Memorial Basketball Hall of Fame in 2020, and August 24 of that year was commemorated as Kobe Bryant Day in recognition of his jersey numbers, 8 and 24. This photograph depicts Bryant playing for the Lakers against the Golden State Warriors in 2005.\" "
   ]
  },
  {
   "cell_type": "code",
   "execution_count": 4,
   "metadata": {},
   "outputs": [],
   "source": [
    "text=\"American professional basketball player who spent his entire twenty-year career with the Los Angeles Lakers in the National Basketball Association (NBA) as a shooting guard. Widely regarded as one of the greatest basketball players of all time, Bryant won five NBA championships and was an eighteen-time NBA All-Star, a fifteen-time member of the All-NBA Team, the 2008 NBA Most Valuable Player (MVP), and a two-time NBA Finals MVP. He was posthumously voted into the Naismith Memorial Basketball Hall of Fame in 2020, and August 24 of that year was commemorated as Kobe Bryant Day in recognition of his jersey numbers, 8 and 24. This photograph depicts Bryant playing for the Lakers against the Golden State Warriors in 2005.\"\n",
    "text=re.sub(r\"[^a-zA-Z0-9]\",\" \",text.lower())\n",
    "words=text.split()\n",
    "stopText=[w for w in words if w not in stopwords.words(\"english\")]\n",
    "final_words=[WordNetLemmatizer().lemmatize(w)for w in stopText]"
   ]
  },
  {
   "cell_type": "code",
   "execution_count": 6,
   "metadata": {},
   "outputs": [
    {
     "data": {
      "text/plain": [
       "77"
      ]
     },
     "execution_count": 6,
     "metadata": {},
     "output_type": "execute_result"
    }
   ],
   "source": [
    "len(final_words)"
   ]
  },
  {
   "cell_type": "code",
   "execution_count": null,
   "metadata": {},
   "outputs": [],
   "source": []
  }
 ],
 "metadata": {
  "kernelspec": {
   "display_name": "Python 3.9.7 ('base')",
   "language": "python",
   "name": "python3"
  },
  "language_info": {
   "codemirror_mode": {
    "name": "ipython",
    "version": 3
   },
   "file_extension": ".py",
   "mimetype": "text/x-python",
   "name": "python",
   "nbconvert_exporter": "python",
   "pygments_lexer": "ipython3",
   "version": "3.9.7"
  },
  "orig_nbformat": 4,
  "vscode": {
   "interpreter": {
    "hash": "f91ae6f45835f3dec64d8a00d5de489aa686995857123073c677a975fdbbfa02"
   }
  }
 },
 "nbformat": 4,
 "nbformat_minor": 2
}
