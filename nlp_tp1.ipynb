{
 "cells": [
  {
   "cell_type": "markdown",
   "metadata": {},
   "source": [
    "Import Librarties"
   ]
  },
  {
   "cell_type": "code",
   "execution_count": 1,
   "metadata": {},
   "outputs": [],
   "source": [
    "import nltk\n",
    "import re # Regular expression \n",
    "# nltk.download('punkt') # used for Tokenization \n",
    "# nltk.download('wordnet') \n",
    "# nltk.download('omw-1.4') \n",
    "# nltk.download('stopwords') \n",
    "from nltk.corpus import stopwords # used for stopwords \n",
    "from nltk.stem.porter import PorterStemmer # used for stemming \n",
    "from nltk.stem.wordnet import WordNetLemmatizer # Used for Lemmatization \n",
    "from nltk.tokenize import sent_tokenize, word_tokenize \n",
    "import pandas as pd"
   ]
  },
  {
   "cell_type": "markdown",
   "metadata": {},
   "source": [
    "Tokenization"
   ]
  },
  {
   "cell_type": "markdown",
   "metadata": {},
   "source": [
    "Input Text"
   ]
  },
  {
   "cell_type": "code",
   "execution_count": 8,
   "metadata": {},
   "outputs": [],
   "source": [
    "text=\"Natural Language Processing is an exciting area. Huge budget have been allocated for this.\" "
   ]
  },
  {
   "cell_type": "code",
   "execution_count": 6,
   "metadata": {},
   "outputs": [
    {
     "name": "stdout",
     "output_type": "stream",
     "text": [
      "['Natural Language Processing is an exciting area.', 'Huge budget have been allocated for this.']\n",
      "['Natural', 'Language', 'Processing', 'is', 'an', 'exciting', 'area', '.', 'Huge', 'budget', 'have', 'been', 'allocated', 'for', 'this', '.']\n"
     ]
    }
   ],
   "source": [
    "# sentence tokenization\n",
    "print(sent_tokenize(text))\n",
    "#word tokenization\n",
    "print(word_tokenize(text))"
   ]
  },
  {
   "cell_type": "markdown",
   "metadata": {},
   "source": [
    "LowerCase Conversion"
   ]
  },
  {
   "cell_type": "code",
   "execution_count": 10,
   "metadata": {},
   "outputs": [
    {
     "name": "stdout",
     "output_type": "stream",
     "text": [
      "['natural', 'language', 'processing', 'is', 'an', 'exciting', 'area', 'huge', 'budget', 'have', 'been', 'allocated', 'for', 'this']\n"
     ]
    }
   ],
   "source": [
    "text = re.sub(r\"[^a-zA-Z0-9]\",\" \",text.lower()) \n",
    "words = text.split() \n",
    "print(words) "
   ]
  },
  {
   "cell_type": "markdown",
   "metadata": {},
   "source": [
    "Stop Words Removal"
   ]
  },
  {
   "cell_type": "code",
   "execution_count": 11,
   "metadata": {},
   "outputs": [
    {
     "name": "stdout",
     "output_type": "stream",
     "text": [
      "['i', 'me', 'my', 'myself', 'we', 'our', 'ours', 'ourselves', 'you', \"you're\", \"you've\", \"you'll\", \"you'd\", 'your', 'yours', 'yourself', 'yourselves', 'he', 'him', 'his', 'himself', 'she', \"she's\", 'her', 'hers', 'herself', 'it', \"it's\", 'its', 'itself', 'they', 'them', 'their', 'theirs', 'themselves', 'what', 'which', 'who', 'whom', 'this', 'that', \"that'll\", 'these', 'those', 'am', 'is', 'are', 'was', 'were', 'be', 'been', 'being', 'have', 'has', 'had', 'having', 'do', 'does', 'did', 'doing', 'a', 'an', 'the', 'and', 'but', 'if', 'or', 'because', 'as', 'until', 'while', 'of', 'at', 'by', 'for', 'with', 'about', 'against', 'between', 'into', 'through', 'during', 'before', 'after', 'above', 'below', 'to', 'from', 'up', 'down', 'in', 'out', 'on', 'off', 'over', 'under', 'again', 'further', 'then', 'once', 'here', 'there', 'when', 'where', 'why', 'how', 'all', 'any', 'both', 'each', 'few', 'more', 'most', 'other', 'some', 'such', 'no', 'nor', 'not', 'only', 'own', 'same', 'so', 'than', 'too', 'very', 's', 't', 'can', 'will', 'just', 'don', \"don't\", 'should', \"should've\", 'now', 'd', 'll', 'm', 'o', 're', 've', 'y', 'ain', 'aren', \"aren't\", 'couldn', \"couldn't\", 'didn', \"didn't\", 'doesn', \"doesn't\", 'hadn', \"hadn't\", 'hasn', \"hasn't\", 'haven', \"haven't\", 'isn', \"isn't\", 'ma', 'mightn', \"mightn't\", 'mustn', \"mustn't\", 'needn', \"needn't\", 'shan', \"shan't\", 'shouldn', \"shouldn't\", 'wasn', \"wasn't\", 'weren', \"weren't\", 'won', \"won't\", 'wouldn', \"wouldn't\"]\n"
     ]
    }
   ],
   "source": [
    "print(stopwords.words(\"english\")) "
   ]
  },
  {
   "cell_type": "code",
   "execution_count": 12,
   "metadata": {},
   "outputs": [],
   "source": [
    "# Final_words=[]\n",
    "# for w in words:\n",
    "#     if w not in stopwords.words(\"english\"):\n",
    "#         Final_words.append(w)\n",
    "        "
   ]
  },
  {
   "cell_type": "code",
   "execution_count": 14,
   "metadata": {},
   "outputs": [],
   "source": [
    "words = [w for w in words if w not in stopwords.words(\"english\")] "
   ]
  },
  {
   "cell_type": "code",
   "execution_count": 15,
   "metadata": {},
   "outputs": [
    {
     "data": {
      "text/plain": [
       "['natural',\n",
       " 'language',\n",
       " 'processing',\n",
       " 'exciting',\n",
       " 'area',\n",
       " 'huge',\n",
       " 'budget',\n",
       " 'allocated']"
      ]
     },
     "execution_count": 15,
     "metadata": {},
     "output_type": "execute_result"
    }
   ],
   "source": [
    "words"
   ]
  },
  {
   "cell_type": "markdown",
   "metadata": {},
   "source": [
    "Stemming"
   ]
  },
  {
   "cell_type": "code",
   "execution_count": null,
   "metadata": {},
   "outputs": [],
   "source": [
    "stemmer=PorterStemmer"
   ]
  },
  {
   "cell_type": "code",
   "execution_count": 17,
   "metadata": {},
   "outputs": [],
   "source": [
    "stemer_words=[PorterStemmer().stem(w) for w in words] "
   ]
  },
  {
   "cell_type": "code",
   "execution_count": 18,
   "metadata": {},
   "outputs": [
    {
     "name": "stdout",
     "output_type": "stream",
     "text": [
      "['natur', 'languag', 'process', 'excit', 'area', 'huge', 'budget', 'alloc']\n"
     ]
    }
   ],
   "source": [
    "print(stemer_words)"
   ]
  },
  {
   "cell_type": "markdown",
   "metadata": {},
   "source": [
    "Lemmetization"
   ]
  },
  {
   "cell_type": "code",
   "execution_count": 19,
   "metadata": {},
   "outputs": [
    {
     "name": "stdout",
     "output_type": "stream",
     "text": [
      "['natural', 'language', 'processing', 'exciting', 'area', 'huge', 'budget', 'allocated']\n"
     ]
    }
   ],
   "source": [
    "lemed_words=[WordNetLemmatizer().lemmatize(w) for w in words] \n",
    "print(lemed_words) "
   ]
  },
  {
   "cell_type": "markdown",
   "metadata": {},
   "source": [
    "Excuting in an Single Cell"
   ]
  },
  {
   "cell_type": "code",
   "execution_count": 22,
   "metadata": {},
   "outputs": [],
   "source": [
    "text=\"Natural Language Processing is an exciting area. Huge budget have been allocated for this.\" \n",
    "text = re.sub(r\"[^a-zA-Z0-9]\",\" \",text.lower()) # Removing Special charaters and make text lowercase\n",
    "words = text.split() \n",
    "stop_Text = [w for w in words if w not in stopwords.words(\"english\")] # Remove Stop words\n",
    "final_words=[WordNetLemmatizer().lemmatize(w) for w in stop_Text] #Lemmatization achived\n",
    "\n",
    "\n",
    "\n",
    "    "
   ]
  },
  {
   "cell_type": "code",
   "execution_count": 23,
   "metadata": {},
   "outputs": [
    {
     "data": {
      "text/plain": [
       "['natural',\n",
       " 'language',\n",
       " 'processing',\n",
       " 'exciting',\n",
       " 'area',\n",
       " 'huge',\n",
       " 'budget',\n",
       " 'allocated']"
      ]
     },
     "execution_count": 23,
     "metadata": {},
     "output_type": "execute_result"
    }
   ],
   "source": [
    "final_words"
   ]
  },
  {
   "cell_type": "markdown",
   "metadata": {},
   "source": [
    "Parts of Speach"
   ]
  },
  {
   "cell_type": "code",
   "execution_count": 24,
   "metadata": {},
   "outputs": [
    {
     "name": "stderr",
     "output_type": "stream",
     "text": [
      "[nltk_data] Downloading package averaged_perceptron_tagger to\n",
      "[nltk_data]     /home/sreenal/nltk_data...\n",
      "[nltk_data]   Unzipping taggers/averaged_perceptron_tagger.zip.\n"
     ]
    },
    {
     "data": {
      "text/plain": [
       "True"
      ]
     },
     "execution_count": 24,
     "metadata": {},
     "output_type": "execute_result"
    }
   ],
   "source": [
    "# nltk.download('averaged_perceptron_tagger') "
   ]
  },
  {
   "cell_type": "code",
   "execution_count": 25,
   "metadata": {},
   "outputs": [
    {
     "name": "stdout",
     "output_type": "stream",
     "text": [
      "[('Natural', 'JJ'), ('Language', 'NNP'), ('Processing', 'NNP'), ('exciting', 'VBG'), ('area', 'NN'), ('.', '.')]\n",
      "[('Huge', 'NNP'), ('budget', 'NN'), ('allocated', 'VBD'), ('.', '.')]\n"
     ]
    }
   ],
   "source": [
    "text=\"Natural Language Processing is an exciting area. Huge budget have been allocated for this.\" \n",
    "tokenized = sent_tokenize(text) \n",
    "for i in tokenized: \n",
    "    wordList = word_tokenize(i) \n",
    "    wordList = [w for w in wordList if w not in stopwords.words(\"english\")] \n",
    "    tagged = nltk.pos_tag(wordList) \n",
    "    print(tagged) "
   ]
  },
  {
   "cell_type": "markdown",
   "metadata": {},
   "source": [
    "Bag of words"
   ]
  },
  {
   "cell_type": "code",
   "execution_count": 3,
   "metadata": {},
   "outputs": [],
   "source": [
    "doc1 = 'Game of Thrones is an amazing tv series!' \n",
    "doc2 = 'Game of Thrones is the best tv series!' \n",
    "doc3 = 'Game of Thrones is so great' "
   ]
  },
  {
   "cell_type": "code",
   "execution_count": null,
   "metadata": {},
   "outputs": [],
   "source": [
    "doc_1low=re.sub(r\"[^a-zA-Z0-9]\",\" \",doc1.lower().split()) \n",
    "doc_2low=re.sub(r\"[^a-zA-Z0-9]\",\" \",doc2.lower().split()) \n",
    "doc_3low=re.sub(r\"[^a-zA-Z0-9]\",\" \",doc3.lower().split()) "
   ]
  },
  {
   "cell_type": "code",
   "execution_count": 17,
   "metadata": {},
   "outputs": [
    {
     "data": {
      "text/html": [
       "<div>\n",
       "<style scoped>\n",
       "    .dataframe tbody tr th:only-of-type {\n",
       "        vertical-align: middle;\n",
       "    }\n",
       "\n",
       "    .dataframe tbody tr th {\n",
       "        vertical-align: top;\n",
       "    }\n",
       "\n",
       "    .dataframe thead th {\n",
       "        text-align: right;\n",
       "    }\n",
       "</style>\n",
       "<table border=\"1\" class=\"dataframe\">\n",
       "  <thead>\n",
       "    <tr style=\"text-align: right;\">\n",
       "      <th></th>\n",
       "      <th>amazing</th>\n",
       "      <th>best</th>\n",
       "      <th>game</th>\n",
       "      <th>great</th>\n",
       "      <th>series</th>\n",
       "      <th>thrones</th>\n",
       "      <th>tv</th>\n",
       "    </tr>\n",
       "  </thead>\n",
       "  <tbody>\n",
       "    <tr>\n",
       "      <th>0</th>\n",
       "      <td>1</td>\n",
       "      <td>0</td>\n",
       "      <td>1</td>\n",
       "      <td>0</td>\n",
       "      <td>1</td>\n",
       "      <td>1</td>\n",
       "      <td>1</td>\n",
       "    </tr>\n",
       "    <tr>\n",
       "      <th>1</th>\n",
       "      <td>0</td>\n",
       "      <td>1</td>\n",
       "      <td>1</td>\n",
       "      <td>0</td>\n",
       "      <td>1</td>\n",
       "      <td>1</td>\n",
       "      <td>1</td>\n",
       "    </tr>\n",
       "    <tr>\n",
       "      <th>2</th>\n",
       "      <td>0</td>\n",
       "      <td>0</td>\n",
       "      <td>1</td>\n",
       "      <td>1</td>\n",
       "      <td>0</td>\n",
       "      <td>1</td>\n",
       "      <td>0</td>\n",
       "    </tr>\n",
       "  </tbody>\n",
       "</table>\n",
       "</div>"
      ],
      "text/plain": [
       "   amazing  best  game  great  series  thrones  tv\n",
       "0        1     0     1      0       1        1   1\n",
       "1        0     1     1      0       1        1   1\n",
       "2        0     0     1      1       0        1   0"
      ]
     },
     "execution_count": 17,
     "metadata": {},
     "output_type": "execute_result"
    }
   ],
   "source": [
    "from sklearn.feature_extraction.text import CountVectorizer\n",
    "vectorizer=CountVectorizer(stop_words='english')\n",
    "x=vectorizer.fit_transform([doc1,doc2,doc3])\n",
    "dfBow= pd.DataFrame(x.toarray(),columns=vectorizer.get_feature_names()) \n",
    "dfBow.head() \n",
    "\n"
   ]
  },
  {
   "cell_type": "code",
   "execution_count": 7,
   "metadata": {},
   "outputs": [
    {
     "data": {
      "text/plain": [
       "array([[1, 0, 1, 0, 1, 1, 1],\n",
       "       [0, 1, 1, 0, 1, 1, 1],\n",
       "       [0, 0, 1, 1, 0, 1, 0]])"
      ]
     },
     "execution_count": 7,
     "metadata": {},
     "output_type": "execute_result"
    }
   ],
   "source": [
    "x.toarray()"
   ]
  },
  {
   "cell_type": "code",
   "execution_count": 13,
   "metadata": {},
   "outputs": [
    {
     "data": {
      "text/plain": [
       "['amazing', 'best', 'game', 'great', 'series', 'thrones', 'tv']"
      ]
     },
     "execution_count": 13,
     "metadata": {},
     "output_type": "execute_result"
    }
   ],
   "source": [
    "vectorizer.get_feature_names()"
   ]
  },
  {
   "cell_type": "markdown",
   "metadata": {},
   "source": [
    "trying with Ngram"
   ]
  },
  {
   "cell_type": "code",
   "execution_count": 19,
   "metadata": {},
   "outputs": [
    {
     "data": {
      "text/html": [
       "<div>\n",
       "<style scoped>\n",
       "    .dataframe tbody tr th:only-of-type {\n",
       "        vertical-align: middle;\n",
       "    }\n",
       "\n",
       "    .dataframe tbody tr th {\n",
       "        vertical-align: top;\n",
       "    }\n",
       "\n",
       "    .dataframe thead th {\n",
       "        text-align: right;\n",
       "    }\n",
       "</style>\n",
       "<table border=\"1\" class=\"dataframe\">\n",
       "  <thead>\n",
       "    <tr style=\"text-align: right;\">\n",
       "      <th></th>\n",
       "      <th>amazing</th>\n",
       "      <th>amazing tv</th>\n",
       "      <th>amazing tv series</th>\n",
       "      <th>best</th>\n",
       "      <th>best tv</th>\n",
       "      <th>best tv series</th>\n",
       "      <th>game</th>\n",
       "      <th>game thrones</th>\n",
       "      <th>game thrones amazing</th>\n",
       "      <th>game thrones best</th>\n",
       "      <th>...</th>\n",
       "      <th>great</th>\n",
       "      <th>series</th>\n",
       "      <th>thrones</th>\n",
       "      <th>thrones amazing</th>\n",
       "      <th>thrones amazing tv</th>\n",
       "      <th>thrones best</th>\n",
       "      <th>thrones best tv</th>\n",
       "      <th>thrones great</th>\n",
       "      <th>tv</th>\n",
       "      <th>tv series</th>\n",
       "    </tr>\n",
       "  </thead>\n",
       "  <tbody>\n",
       "    <tr>\n",
       "      <th>0</th>\n",
       "      <td>1</td>\n",
       "      <td>1</td>\n",
       "      <td>1</td>\n",
       "      <td>0</td>\n",
       "      <td>0</td>\n",
       "      <td>0</td>\n",
       "      <td>1</td>\n",
       "      <td>1</td>\n",
       "      <td>1</td>\n",
       "      <td>0</td>\n",
       "      <td>...</td>\n",
       "      <td>0</td>\n",
       "      <td>1</td>\n",
       "      <td>1</td>\n",
       "      <td>1</td>\n",
       "      <td>1</td>\n",
       "      <td>0</td>\n",
       "      <td>0</td>\n",
       "      <td>0</td>\n",
       "      <td>1</td>\n",
       "      <td>1</td>\n",
       "    </tr>\n",
       "    <tr>\n",
       "      <th>1</th>\n",
       "      <td>0</td>\n",
       "      <td>0</td>\n",
       "      <td>0</td>\n",
       "      <td>1</td>\n",
       "      <td>1</td>\n",
       "      <td>1</td>\n",
       "      <td>1</td>\n",
       "      <td>1</td>\n",
       "      <td>0</td>\n",
       "      <td>1</td>\n",
       "      <td>...</td>\n",
       "      <td>0</td>\n",
       "      <td>1</td>\n",
       "      <td>1</td>\n",
       "      <td>0</td>\n",
       "      <td>0</td>\n",
       "      <td>1</td>\n",
       "      <td>1</td>\n",
       "      <td>0</td>\n",
       "      <td>1</td>\n",
       "      <td>1</td>\n",
       "    </tr>\n",
       "    <tr>\n",
       "      <th>2</th>\n",
       "      <td>0</td>\n",
       "      <td>0</td>\n",
       "      <td>0</td>\n",
       "      <td>0</td>\n",
       "      <td>0</td>\n",
       "      <td>0</td>\n",
       "      <td>1</td>\n",
       "      <td>1</td>\n",
       "      <td>0</td>\n",
       "      <td>0</td>\n",
       "      <td>...</td>\n",
       "      <td>1</td>\n",
       "      <td>0</td>\n",
       "      <td>1</td>\n",
       "      <td>0</td>\n",
       "      <td>0</td>\n",
       "      <td>0</td>\n",
       "      <td>0</td>\n",
       "      <td>1</td>\n",
       "      <td>0</td>\n",
       "      <td>0</td>\n",
       "    </tr>\n",
       "  </tbody>\n",
       "</table>\n",
       "<p>3 rows × 21 columns</p>\n",
       "</div>"
      ],
      "text/plain": [
       "   amazing  amazing tv  amazing tv series  best  best tv  best tv series  \\\n",
       "0        1           1                  1     0        0               0   \n",
       "1        0           0                  0     1        1               1   \n",
       "2        0           0                  0     0        0               0   \n",
       "\n",
       "   game  game thrones  game thrones amazing  game thrones best  ...  great  \\\n",
       "0     1             1                     1                  0  ...      0   \n",
       "1     1             1                     0                  1  ...      0   \n",
       "2     1             1                     0                  0  ...      1   \n",
       "\n",
       "   series  thrones  thrones amazing  thrones amazing tv  thrones best  \\\n",
       "0       1        1                1                   1             0   \n",
       "1       1        1                0                   0             1   \n",
       "2       0        1                0                   0             0   \n",
       "\n",
       "   thrones best tv  thrones great  tv  tv series  \n",
       "0                0              0   1          1  \n",
       "1                1              0   1          1  \n",
       "2                0              1   0          0  \n",
       "\n",
       "[3 rows x 21 columns]"
      ]
     },
     "execution_count": 19,
     "metadata": {},
     "output_type": "execute_result"
    }
   ],
   "source": [
    "from sklearn.feature_extraction.text import CountVectorizer\n",
    "vectorizer=CountVectorizer(stop_words='english',ngram_range=(1,3))\n",
    "x=vectorizer.fit_transform([doc1,doc2,doc3])\n",
    "dfBow= pd.DataFrame(x.toarray(),columns=vectorizer.get_feature_names()) \n",
    "dfBow.head() \n"
   ]
  },
  {
   "cell_type": "code",
   "execution_count": 20,
   "metadata": {},
   "outputs": [
    {
     "data": {
      "text/plain": [
       "{'game': 6,\n",
       " 'thrones': 13,\n",
       " 'amazing': 0,\n",
       " 'tv': 19,\n",
       " 'series': 12,\n",
       " 'game thrones': 7,\n",
       " 'thrones amazing': 14,\n",
       " 'amazing tv': 1,\n",
       " 'tv series': 20,\n",
       " 'game thrones amazing': 8,\n",
       " 'thrones amazing tv': 15,\n",
       " 'amazing tv series': 2,\n",
       " 'best': 3,\n",
       " 'thrones best': 16,\n",
       " 'best tv': 4,\n",
       " 'game thrones best': 9,\n",
       " 'thrones best tv': 17,\n",
       " 'best tv series': 5,\n",
       " 'great': 11,\n",
       " 'thrones great': 18,\n",
       " 'game thrones great': 10}"
      ]
     },
     "execution_count": 20,
     "metadata": {},
     "output_type": "execute_result"
    }
   ],
   "source": [
    "vectorizer.vocabulary_"
   ]
  },
  {
   "cell_type": "markdown",
   "metadata": {},
   "source": [
    "TF-IDF"
   ]
  },
  {
   "cell_type": "code",
   "execution_count": 2,
   "metadata": {},
   "outputs": [],
   "source": [
    "from sklearn.feature_extraction.text import TfidfVectorizer"
   ]
  },
  {
   "cell_type": "markdown",
   "metadata": {},
   "source": [
    "Single Execution"
   ]
  },
  {
   "cell_type": "code",
   "execution_count": 5,
   "metadata": {},
   "outputs": [
    {
     "name": "stdout",
     "output_type": "stream",
     "text": [
      "Feature Name found - ['cars', 'cars cheaper', 'cars cheaper diesel', 'cheaper', 'cheaper diesel', 'cheaper diesel cars', 'cheaper petrol', 'diesel', 'diesel cars', 'petrol']\n"
     ]
    },
    {
     "data": {
      "text/html": [
       "<div>\n",
       "<style scoped>\n",
       "    .dataframe tbody tr th:only-of-type {\n",
       "        vertical-align: middle;\n",
       "    }\n",
       "\n",
       "    .dataframe tbody tr th {\n",
       "        vertical-align: top;\n",
       "    }\n",
       "\n",
       "    .dataframe thead th {\n",
       "        text-align: right;\n",
       "    }\n",
       "</style>\n",
       "<table border=\"1\" class=\"dataframe\">\n",
       "  <thead>\n",
       "    <tr style=\"text-align: right;\">\n",
       "      <th></th>\n",
       "      <th>cars</th>\n",
       "      <th>cars cheaper</th>\n",
       "      <th>cars cheaper diesel</th>\n",
       "      <th>cheaper</th>\n",
       "      <th>cheaper diesel</th>\n",
       "      <th>cheaper diesel cars</th>\n",
       "      <th>cheaper petrol</th>\n",
       "      <th>diesel</th>\n",
       "      <th>diesel cars</th>\n",
       "      <th>petrol</th>\n",
       "    </tr>\n",
       "  </thead>\n",
       "  <tbody>\n",
       "    <tr>\n",
       "      <th>0</th>\n",
       "      <td>0.616664</td>\n",
       "      <td>0.308332</td>\n",
       "      <td>0.308332</td>\n",
       "      <td>0.219381</td>\n",
       "      <td>0.308332</td>\n",
       "      <td>0.308332</td>\n",
       "      <td>0.000000</td>\n",
       "      <td>0.219381</td>\n",
       "      <td>0.308332</td>\n",
       "      <td>0.219381</td>\n",
       "    </tr>\n",
       "    <tr>\n",
       "      <th>1</th>\n",
       "      <td>0.000000</td>\n",
       "      <td>0.000000</td>\n",
       "      <td>0.000000</td>\n",
       "      <td>0.448321</td>\n",
       "      <td>0.000000</td>\n",
       "      <td>0.000000</td>\n",
       "      <td>0.630099</td>\n",
       "      <td>0.448321</td>\n",
       "      <td>0.000000</td>\n",
       "      <td>0.448321</td>\n",
       "    </tr>\n",
       "  </tbody>\n",
       "</table>\n",
       "</div>"
      ],
      "text/plain": [
       "       cars  cars cheaper  cars cheaper diesel   cheaper  cheaper diesel  \\\n",
       "0  0.616664      0.308332             0.308332  0.219381        0.308332   \n",
       "1  0.000000      0.000000             0.000000  0.448321        0.000000   \n",
       "\n",
       "   cheaper diesel cars  cheaper petrol    diesel  diesel cars    petrol  \n",
       "0             0.308332        0.000000  0.219381     0.308332  0.219381  \n",
       "1             0.000000        0.630099  0.448321     0.000000  0.448321  "
      ]
     },
     "execution_count": 5,
     "metadata": {},
     "output_type": "execute_result"
    }
   ],
   "source": [
    "d1=\"petrol cars are cheaper than diesel cars\" \n",
    "d2=\"diesel is cheaper than petrol\" \n",
    "doc_corpus=[d1,d2] \n",
    "tfVec=TfidfVectorizer(stop_words='english',ngram_range=(1,3),max_features=10) \n",
    "tfVec_Fit =tfVec.fit_transform(doc_corpus) \n",
    "print(f\"Feature Name found - {tfVec.get_feature_names()}\") \n",
    "dfTFIDF= pd.DataFrame(tfVec_Fit.toarray(),columns=tfVec.get_feature_names()) \n",
    "dfTFIDF.head() "
   ]
  },
  {
   "cell_type": "markdown",
   "metadata": {},
   "source": [
    "Cosine Similarity"
   ]
  },
  {
   "cell_type": "code",
   "execution_count": 7,
   "metadata": {},
   "outputs": [],
   "source": [
    "import numpy as np\n",
    "from numpy.linalg import norm"
   ]
  },
  {
   "cell_type": "code",
   "execution_count": 9,
   "metadata": {},
   "outputs": [
    {
     "name": "stdout",
     "output_type": "stream",
     "text": [
      "Feature Name found - ['bad', 'food', 'good', 'great']\n",
      "Cosine Similarity is 0.2605557435429248\n"
     ]
    },
    {
     "data": {
      "text/html": [
       "<div>\n",
       "<style scoped>\n",
       "    .dataframe tbody tr th:only-of-type {\n",
       "        vertical-align: middle;\n",
       "    }\n",
       "\n",
       "    .dataframe tbody tr th {\n",
       "        vertical-align: top;\n",
       "    }\n",
       "\n",
       "    .dataframe thead th {\n",
       "        text-align: right;\n",
       "    }\n",
       "</style>\n",
       "<table border=\"1\" class=\"dataframe\">\n",
       "  <thead>\n",
       "    <tr style=\"text-align: right;\">\n",
       "      <th></th>\n",
       "      <th>bad</th>\n",
       "      <th>food</th>\n",
       "      <th>good</th>\n",
       "      <th>great</th>\n",
       "    </tr>\n",
       "  </thead>\n",
       "  <tbody>\n",
       "    <tr>\n",
       "      <th>0</th>\n",
       "      <td>0.000000</td>\n",
       "      <td>0.449436</td>\n",
       "      <td>0.631667</td>\n",
       "      <td>0.631667</td>\n",
       "    </tr>\n",
       "    <tr>\n",
       "      <th>1</th>\n",
       "      <td>0.814802</td>\n",
       "      <td>0.579739</td>\n",
       "      <td>0.000000</td>\n",
       "      <td>0.000000</td>\n",
       "    </tr>\n",
       "  </tbody>\n",
       "</table>\n",
       "</div>"
      ],
      "text/plain": [
       "        bad      food      good     great\n",
       "0  0.000000  0.449436  0.631667  0.631667\n",
       "1  0.814802  0.579739  0.000000  0.000000"
      ]
     },
     "execution_count": 9,
     "metadata": {},
     "output_type": "execute_result"
    }
   ],
   "source": [
    "d1=\"The food is good and great\" # +ve statement \n",
    "d2=\"The food is bad\" # -ve statement \n",
    "from sklearn.feature_extraction.text import CountVectorizer \n",
    "vectorizer = CountVectorizer(stop_words='english') \n",
    "x = vectorizer.fit_transform([d1,d2]) \n",
    "dfBow= pd.DataFrame(x.toarray(),columns=vectorizer.get_feature_names()) \n",
    "dfBow.head() \n",
    "tfVec=TfidfVectorizer(stop_words='english') \n",
    "tfVec_Fit =tfVec.fit_transform([d1,d2]) \n",
    "print(f\"Feature Name found - {tfVec.get_feature_names()}\") \n",
    "dfTFIDF= pd.DataFrame(tfVec_Fit.toarray(),columns=tfVec.get_feature_names()) \n",
    "dfTFIDF.head() \n",
    "d1_count=[0.000000,0.449436,0.631667,0.631667] \n",
    "d2_count=[0.814802,0.579739,0.000000,0.000000] \n",
    "cosine = np.dot(d1_count,d2_count)/(norm(d1_count)*norm(d2_count)) \n",
    "print(f\"Cosine Similarity is {cosine}\") \n",
    "dfTFIDF.head() "
   ]
  },
  {
   "cell_type": "code",
   "execution_count": null,
   "metadata": {},
   "outputs": [],
   "source": []
  }
 ],
 "metadata": {
  "kernelspec": {
   "display_name": "Python 3.9.7 ('base')",
   "language": "python",
   "name": "python3"
  },
  "language_info": {
   "codemirror_mode": {
    "name": "ipython",
    "version": 3
   },
   "file_extension": ".py",
   "mimetype": "text/x-python",
   "name": "python",
   "nbconvert_exporter": "python",
   "pygments_lexer": "ipython3",
   "version": "3.9.7"
  },
  "orig_nbformat": 4,
  "vscode": {
   "interpreter": {
    "hash": "f91ae6f45835f3dec64d8a00d5de489aa686995857123073c677a975fdbbfa02"
   }
  }
 },
 "nbformat": 4,
 "nbformat_minor": 2
}
